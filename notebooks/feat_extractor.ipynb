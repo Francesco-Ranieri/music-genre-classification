{
  "nbformat": 4,
  "nbformat_minor": 0,
  "metadata": {
    "colab": {
      "provenance": []
    },
    "kernelspec": {
      "name": "python3",
      "display_name": "Python 3"
    },
    "language_info": {
      "name": "python"
    }
  },
  "cells": [
    {
      "cell_type": "code",
      "execution_count": null,
      "metadata": {
        "id": "XAZ0gWLHHwAo"
      },
      "outputs": [],
      "source": [
        "import librosa\n",
        "import pandas as pd\n",
        "from scipy.io.wavfile import read\n",
        "import numpy as np\n",
        "\n",
        "PATH = \"/content/blues.00000.wav\"\n",
        "SAMPLE_RATE = 22050\n",
        "TRACK_DURATION = 30\n",
        "SAMPLES_PER_TRACK = SAMPLE_RATE * TRACK_DURATION\n",
        "\n",
        "signal, sample_rate = librosa.load(PATH, sr=SAMPLE_RATE)\n",
        "samples_per_segment = int(SAMPLES_PER_TRACK / 10)\n",
        "num_segment = 0\n",
        "start = samples_per_segment * num_segment\n",
        "finish = start + samples_per_segment\n",
        "signal = signal[start:finish]"
      ]
    },
    {
      "cell_type": "code",
      "source": [
        "def round_np(number):\n",
        "  return float(\"{0:.9f}\".format(number))"
      ],
      "metadata": {
        "id": "W7R5NU1HlPw8"
      },
      "execution_count": null,
      "outputs": []
    },
    {
      "cell_type": "code",
      "source": [
        "duration = librosa.get_duration(signal)\n",
        "\n",
        "chroma_stft_mean = round_np(np.mean(librosa.feature.chroma_stft(signal))) \n",
        "chroma_stft_var = round_np(librosa.feature.chroma_stft(signal).var())\n",
        "\n",
        "rms_mean = round_np(np.mean(librosa.feature.rms(signal))) \n",
        "rms_var = round_np(librosa.feature.rms(signal).var())\n",
        "\n",
        "spectral_centroid_mean = round_np(np.mean(librosa.feature.spectral_centroid(signal))) \n",
        "spectral_centroid_var = round_np(librosa.feature.spectral_centroid(signal).var())\n",
        "\n",
        "spectral_bandwidth_mean = round_np(np.mean(librosa.feature.spectral_bandwidth(signal))) \n",
        "spectral_bandwidth_var = round_np(librosa.feature.spectral_bandwidth(signal).var())\n",
        "\n",
        "spectral_rolloff_mean = round_np(np.mean(librosa.feature.spectral_rolloff(signal))) \n",
        "spectral_rolloff_var = round_np(librosa.feature.spectral_rolloff(signal).var())\n",
        "\n",
        "zero_crossing_rate_mean = round_np(np.mean(librosa.feature.zero_crossing_rate(signal))) \n",
        "zero_crossing_rate_var = round_np(librosa.feature.zero_crossing_rate(signal).var())\n",
        "\n",
        "harmonic_mean = round_np(np.mean(librosa.effects.harmonic(signal))) \n",
        "harmonic_var = round_np(librosa.effects.harmonic(signal).var())\n",
        "\n",
        "y_harmonic, y_perceptr = librosa.effects.hpss(signal)\n",
        "perceptr_mean = (np.mean(y_perceptr).real)\n",
        "perceptr_var = round_np(y_perceptr.var())\n",
        "\n",
        "tempo, _ = librosa.beat.beat_track(signal)\n",
        "\n",
        "mfcc = librosa.feature.mfcc(signal[start:finish],\n",
        "                            sample_rate,\n",
        "                            n_mfcc=13,\n",
        "                            n_fft=2048,\n",
        "                            hop_length=512)\n",
        "\n",
        "mfcc_mean = [np.mean(m) for m in mfcc]\n",
        "mfcc_var = [m.var() for m in mfcc]\n",
        "\n",
        "print(f\"length --> {duration}\")\n",
        "\n",
        "print(f\"chroma_stft_mean --> {chroma_stft_mean}\")\n",
        "print(f\"chroma_stft_var --> {chroma_stft_var}\")\n",
        "\n",
        "print(f\"rms_mean --> {rms_mean}\")\n",
        "print(f\"rms_var --> {rms_var}\")\n",
        "\n",
        "print(f\"spectral_centroid_mean --> {spectral_centroid_mean}\")\n",
        "print(f\"spectral_centroid_var --> {spectral_centroid_var}\")\n",
        "\n",
        "print(f\"spectral_bandwidth_mean --> {spectral_bandwidth_mean}\")\n",
        "print(f\"spectral_bandwidth_var --> {spectral_bandwidth_var}\")\n",
        "\n",
        "print(f\"spectral_rolloff_mean --> {spectral_rolloff_mean}\")\n",
        "print(f\"spectral_rolloff_var --> {spectral_rolloff_var}\")\n",
        "\n",
        "print(f\"zero_crossing_rate_mean --> {zero_crossing_rate_mean}\")\n",
        "print(f\"zero_crossing_rate_var --> {zero_crossing_rate_var}\")\n",
        "\n",
        "print(f\"harmonic_mean --> {harmonic_mean}\")\n",
        "print(f\"harmonic_var --> {harmonic_var}\")\n",
        "\n",
        "print(f\"perceptr_mean --> {perceptr_mean}\")\n",
        "print(f\"perceptr_var --> {perceptr_var}\")\n",
        "\n",
        "print(f\"tempo --> {tempo}\")"
      ],
      "metadata": {
        "colab": {
          "base_uri": "https://localhost:8080/"
        },
        "id": "DswXf6YQh_B4",
        "outputId": "7ed60ae2-97b5-442b-f0d2-a9c20335c84d"
      },
      "execution_count": null,
      "outputs": [
        {
          "output_type": "stream",
          "name": "stdout",
          "text": [
            "length --> 3.0\n",
            "chroma_stft_mean --> 0.335434288\n",
            "chroma_stft_var --> 0.091088459\n",
            "rms_mean --> 0.130405277\n",
            "rms_var --> 0.00352097\n",
            "spectral_centroid_mean --> 1773.285876788\n",
            "spectral_centroid_var --> 168244.7284477\n",
            "spectral_bandwidth_mean --> 1972.723622044\n",
            "spectral_bandwidth_var --> 117298.851325905\n",
            "spectral_rolloff_mean --> 3714.477539062\n",
            "spectral_rolloff_var --> 1080245.069806392\n",
            "zero_crossing_rate_mean --> 0.081850962\n",
            "zero_crossing_rate_var --> 0.000557687\n",
            "harmonic_mean --> -7.9289e-05\n",
            "harmonic_var --> 0.008376559\n",
            "perceptr_mean --> -6.73555041430518e-05\n",
            "perceptr_var --> 0.005526564\n",
            "tempo --> 129.19921875\n"
          ]
        }
      ]
    },
    {
      "cell_type": "code",
      "source": [
        "_signal, _sample_rate = librosa.load(PATH, sr=SAMPLE_RATE)"
      ],
      "metadata": {
        "colab": {
          "base_uri": "https://localhost:8080/"
        },
        "id": "K50WLmW5bjD8",
        "outputId": "2d37b66f-0ccb-4812-bea8-2c8a3349c984"
      },
      "execution_count": null,
      "outputs": [
        {
          "output_type": "stream",
          "name": "stdout",
          "text": [
            "[ 0.00732422  0.01660156  0.00762939 ... -0.05560303 -0.06106567\n",
            " -0.06417847]\n",
            "[ 0.00732422  0.01660156  0.00762939 ... -0.04373169 -0.05706787\n",
            " -0.04086304]\n"
          ]
        }
      ]
    },
    {
      "cell_type": "code",
      "source": [
        "    columns = ['length', 'chroma_stft_mean', 'chroma_stft_var', 'rms_mean', 'rms_var', 'spectral_centroid_mean',\n",
        "               'spectral_centroid_var', 'spectral_bandwidth_mean', 'spectral_bandwidth_var', 'rolloff_mean',\n",
        "               'rolloff_var', 'zero_crossing_rate_mean', 'zero_crossing_rate_var', 'harmony_mean', 'harmony_var',\n",
        "               'perceptr_mean', 'perceptr_var', 'tempo', 'mfcc1_mean', 'mfcc1_var', 'mfcc2_mean', 'mfcc2_var',\n",
        "               'mfcc3_mean', 'mfcc3_var', 'mfcc4_mean', 'mfcc4_var', 'mfcc5_mean', 'mfcc5_var', 'mfcc6_mean',\n",
        "               'mfcc6_var',\n",
        "               'mfcc7_mean', 'mfcc7_var', 'mfcc8_mean', 'mfcc8_var', 'mfcc9_mean', 'mfcc9_var', 'mfcc10_mean',\n",
        "               'mfcc10_var', 'mfcc11_mean', 'mfcc11_var', 'mfcc12_mean', 'mfcc12_var', 'mfcc13_mean', 'mfcc13_var',\n",
        "               'mfcc14_mean', 'mfcc14_var', 'mfcc15_mean', 'mfcc15_var', 'mfcc16_mean', 'mfcc16_var', 'mfcc17_mean',\n",
        "               'mfcc17_var', 'mfcc18_mean', 'mfcc18_var', 'mfcc19_mean', 'mfcc19_var', 'mfcc20_mean', 'mfcc20_var']\n",
        "\n",
        "    len(columns)"
      ],
      "metadata": {
        "colab": {
          "base_uri": "https://localhost:8080/"
        },
        "id": "K-Ffh3_spbia",
        "outputId": "323b154f-3aaf-49d3-b31e-7c63ae7778b5"
      },
      "execution_count": null,
      "outputs": [
        {
          "output_type": "execute_result",
          "data": {
            "text/plain": [
              "58"
            ]
          },
          "metadata": {},
          "execution_count": 171
        }
      ]
    }
  ]
}